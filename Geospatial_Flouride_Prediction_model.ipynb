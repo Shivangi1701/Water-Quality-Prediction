{
 "cells": [
  {
   "cell_type": "code",
   "execution_count": 3,
   "id": "da34a89d",
   "metadata": {},
   "outputs": [],
   "source": [
    "import pandas as pd\n",
    "import numpy as np\n",
    "import seaborn as sns\n",
    "import matplotlib.pyplot as plt\n",
    "\n",
    "from sklearn.preprocessing import StandardScaler\n",
    "from sklearn.model_selection import train_test_split\n",
    "\n",
    "from sklearn.metrics import accuracy_score, classification_report, confusion_matrix"
   ]
  },
  {
   "cell_type": "code",
   "execution_count": 4,
   "id": "5e9aadbb",
   "metadata": {},
   "outputs": [],
   "source": [
    "df = pd.read_csv(r'D:\\Shivangi\\FinalYearProject\\lastSem\\independent_variable\\variable_images\\sampled_data\\ALL_COMBINED_NO_LOC.csv')"
   ]
  },
  {
   "cell_type": "code",
   "execution_count": 5,
   "id": "743d8cf0",
   "metadata": {},
   "outputs": [
    {
     "data": {
      "text/html": [
       "<div>\n",
       "<style scoped>\n",
       "    .dataframe tbody tr th:only-of-type {\n",
       "        vertical-align: middle;\n",
       "    }\n",
       "\n",
       "    .dataframe tbody tr th {\n",
       "        vertical-align: top;\n",
       "    }\n",
       "\n",
       "    .dataframe thead th {\n",
       "        text-align: right;\n",
       "    }\n",
       "</style>\n",
       "<table border=\"1\" class=\"dataframe\">\n",
       "  <thead>\n",
       "    <tr style=\"text-align: right;\">\n",
       "      <th></th>\n",
       "      <th>AET</th>\n",
       "      <th>Aridity(*10k)</th>\n",
       "      <th>Cropland</th>\n",
       "      <th>PET</th>\n",
       "      <th>Precipitation</th>\n",
       "      <th>Geology</th>\n",
       "      <th>pH</th>\n",
       "      <th>Slope</th>\n",
       "      <th>Clay_content</th>\n",
       "      <th>Sand_content</th>\n",
       "      <th>Slit_content</th>\n",
       "      <th>Fluoride_class</th>\n",
       "    </tr>\n",
       "  </thead>\n",
       "  <tbody>\n",
       "    <tr>\n",
       "      <th>0</th>\n",
       "      <td>949.0</td>\n",
       "      <td>6799.0</td>\n",
       "      <td>74.0</td>\n",
       "      <td>1772.0</td>\n",
       "      <td>1377.0</td>\n",
       "      <td>4.0</td>\n",
       "      <td>8.44</td>\n",
       "      <td>38</td>\n",
       "      <td>19.0</td>\n",
       "      <td>50.0</td>\n",
       "      <td>32.0</td>\n",
       "      <td>0</td>\n",
       "    </tr>\n",
       "    <tr>\n",
       "      <th>1</th>\n",
       "      <td>941.0</td>\n",
       "      <td>6575.0</td>\n",
       "      <td>72.0</td>\n",
       "      <td>1786.0</td>\n",
       "      <td>1088.0</td>\n",
       "      <td>4.0</td>\n",
       "      <td>8.40</td>\n",
       "      <td>357</td>\n",
       "      <td>10.0</td>\n",
       "      <td>70.0</td>\n",
       "      <td>9.0</td>\n",
       "      <td>0</td>\n",
       "    </tr>\n",
       "    <tr>\n",
       "      <th>2</th>\n",
       "      <td>935.0</td>\n",
       "      <td>6471.0</td>\n",
       "      <td>65.0</td>\n",
       "      <td>1784.0</td>\n",
       "      <td>1088.0</td>\n",
       "      <td>4.0</td>\n",
       "      <td>8.40</td>\n",
       "      <td>357</td>\n",
       "      <td>10.0</td>\n",
       "      <td>70.0</td>\n",
       "      <td>9.0</td>\n",
       "      <td>0</td>\n",
       "    </tr>\n",
       "    <tr>\n",
       "      <th>3</th>\n",
       "      <td>905.0</td>\n",
       "      <td>6163.0</td>\n",
       "      <td>72.0</td>\n",
       "      <td>1789.0</td>\n",
       "      <td>1088.0</td>\n",
       "      <td>4.0</td>\n",
       "      <td>8.12</td>\n",
       "      <td>510</td>\n",
       "      <td>10.0</td>\n",
       "      <td>70.0</td>\n",
       "      <td>9.0</td>\n",
       "      <td>0</td>\n",
       "    </tr>\n",
       "    <tr>\n",
       "      <th>4</th>\n",
       "      <td>1017.0</td>\n",
       "      <td>9284.0</td>\n",
       "      <td>48.0</td>\n",
       "      <td>1718.0</td>\n",
       "      <td>1702.0</td>\n",
       "      <td>4.0</td>\n",
       "      <td>8.12</td>\n",
       "      <td>209</td>\n",
       "      <td>10.0</td>\n",
       "      <td>70.0</td>\n",
       "      <td>9.0</td>\n",
       "      <td>0</td>\n",
       "    </tr>\n",
       "    <tr>\n",
       "      <th>...</th>\n",
       "      <td>...</td>\n",
       "      <td>...</td>\n",
       "      <td>...</td>\n",
       "      <td>...</td>\n",
       "      <td>...</td>\n",
       "      <td>...</td>\n",
       "      <td>...</td>\n",
       "      <td>...</td>\n",
       "      <td>...</td>\n",
       "      <td>...</td>\n",
       "      <td>...</td>\n",
       "      <td>...</td>\n",
       "    </tr>\n",
       "    <tr>\n",
       "      <th>12200</th>\n",
       "      <td>952.0</td>\n",
       "      <td>7279.0</td>\n",
       "      <td>100.0</td>\n",
       "      <td>1750.0</td>\n",
       "      <td>1411.0</td>\n",
       "      <td>4.0</td>\n",
       "      <td>7.10</td>\n",
       "      <td>1789</td>\n",
       "      <td>18.0</td>\n",
       "      <td>37.0</td>\n",
       "      <td>45.0</td>\n",
       "      <td>0</td>\n",
       "    </tr>\n",
       "    <tr>\n",
       "      <th>12201</th>\n",
       "      <td>945.0</td>\n",
       "      <td>7149.0</td>\n",
       "      <td>100.0</td>\n",
       "      <td>1744.0</td>\n",
       "      <td>1411.0</td>\n",
       "      <td>4.0</td>\n",
       "      <td>6.80</td>\n",
       "      <td>1789</td>\n",
       "      <td>18.0</td>\n",
       "      <td>37.0</td>\n",
       "      <td>45.0</td>\n",
       "      <td>0</td>\n",
       "    </tr>\n",
       "    <tr>\n",
       "      <th>12202</th>\n",
       "      <td>967.0</td>\n",
       "      <td>7545.0</td>\n",
       "      <td>99.0</td>\n",
       "      <td>1728.0</td>\n",
       "      <td>1397.0</td>\n",
       "      <td>4.0</td>\n",
       "      <td>6.95</td>\n",
       "      <td>1169</td>\n",
       "      <td>22.0</td>\n",
       "      <td>40.0</td>\n",
       "      <td>35.0</td>\n",
       "      <td>0</td>\n",
       "    </tr>\n",
       "    <tr>\n",
       "      <th>12203</th>\n",
       "      <td>964.0</td>\n",
       "      <td>7223.0</td>\n",
       "      <td>100.0</td>\n",
       "      <td>1719.0</td>\n",
       "      <td>1266.0</td>\n",
       "      <td>4.0</td>\n",
       "      <td>7.55</td>\n",
       "      <td>753</td>\n",
       "      <td>22.0</td>\n",
       "      <td>40.0</td>\n",
       "      <td>35.0</td>\n",
       "      <td>0</td>\n",
       "    </tr>\n",
       "    <tr>\n",
       "      <th>12204</th>\n",
       "      <td>1079.0</td>\n",
       "      <td>9682.0</td>\n",
       "      <td>41.0</td>\n",
       "      <td>1668.0</td>\n",
       "      <td>1370.0</td>\n",
       "      <td>4.0</td>\n",
       "      <td>7.32</td>\n",
       "      <td>9</td>\n",
       "      <td>10.0</td>\n",
       "      <td>70.0</td>\n",
       "      <td>9.0</td>\n",
       "      <td>0</td>\n",
       "    </tr>\n",
       "  </tbody>\n",
       "</table>\n",
       "<p>12205 rows × 12 columns</p>\n",
       "</div>"
      ],
      "text/plain": [
       "          AET  Aridity(*10k)  Cropland     PET  Precipitation  Geology    pH  \\\n",
       "0       949.0         6799.0      74.0  1772.0         1377.0      4.0  8.44   \n",
       "1       941.0         6575.0      72.0  1786.0         1088.0      4.0  8.40   \n",
       "2       935.0         6471.0      65.0  1784.0         1088.0      4.0  8.40   \n",
       "3       905.0         6163.0      72.0  1789.0         1088.0      4.0  8.12   \n",
       "4      1017.0         9284.0      48.0  1718.0         1702.0      4.0  8.12   \n",
       "...       ...            ...       ...     ...            ...      ...   ...   \n",
       "12200   952.0         7279.0     100.0  1750.0         1411.0      4.0  7.10   \n",
       "12201   945.0         7149.0     100.0  1744.0         1411.0      4.0  6.80   \n",
       "12202   967.0         7545.0      99.0  1728.0         1397.0      4.0  6.95   \n",
       "12203   964.0         7223.0     100.0  1719.0         1266.0      4.0  7.55   \n",
       "12204  1079.0         9682.0      41.0  1668.0         1370.0      4.0  7.32   \n",
       "\n",
       "       Slope  Clay_content  Sand_content  Slit_content  Fluoride_class  \n",
       "0         38          19.0          50.0          32.0               0  \n",
       "1        357          10.0          70.0           9.0               0  \n",
       "2        357          10.0          70.0           9.0               0  \n",
       "3        510          10.0          70.0           9.0               0  \n",
       "4        209          10.0          70.0           9.0               0  \n",
       "...      ...           ...           ...           ...             ...  \n",
       "12200   1789          18.0          37.0          45.0               0  \n",
       "12201   1789          18.0          37.0          45.0               0  \n",
       "12202   1169          22.0          40.0          35.0               0  \n",
       "12203    753          22.0          40.0          35.0               0  \n",
       "12204      9          10.0          70.0           9.0               0  \n",
       "\n",
       "[12205 rows x 12 columns]"
      ]
     },
     "execution_count": 5,
     "metadata": {},
     "output_type": "execute_result"
    }
   ],
   "source": [
    "df"
   ]
  },
  {
   "cell_type": "markdown",
   "id": "530a4777",
   "metadata": {},
   "source": [
    "## Data Cleaning"
   ]
  },
  {
   "cell_type": "code",
   "execution_count": 6,
   "id": "ed3e60e6",
   "metadata": {},
   "outputs": [
    {
     "data": {
      "text/plain": [
       "Index(['AET', 'Aridity(*10k)', 'Cropland', 'PET', 'Precipitation', 'Geology',\n",
       "       'pH', 'Slope', 'Clay_content', 'Sand_content', 'Slit_content',\n",
       "       'Fluoride_class'],\n",
       "      dtype='object')"
      ]
     },
     "execution_count": 6,
     "metadata": {},
     "output_type": "execute_result"
    }
   ],
   "source": [
    "df.columns"
   ]
  },
  {
   "cell_type": "code",
   "execution_count": 7,
   "id": "a2b24070",
   "metadata": {},
   "outputs": [
    {
     "name": "stdout",
     "output_type": "stream",
     "text": [
      "<class 'pandas.core.frame.DataFrame'>\n",
      "RangeIndex: 12205 entries, 0 to 12204\n",
      "Data columns (total 12 columns):\n",
      " #   Column          Non-Null Count  Dtype  \n",
      "---  ------          --------------  -----  \n",
      " 0   AET             12163 non-null  float64\n",
      " 1   Aridity(*10k)   11970 non-null  float64\n",
      " 2   Cropland        12203 non-null  float64\n",
      " 3   PET             12158 non-null  float64\n",
      " 4   Precipitation   12109 non-null  float64\n",
      " 5   Geology         12047 non-null  float64\n",
      " 6   pH              12202 non-null  float64\n",
      " 7   Slope           12205 non-null  int64  \n",
      " 8   Clay_content    12168 non-null  float64\n",
      " 9   Sand_content    12168 non-null  float64\n",
      " 10  Slit_content    12168 non-null  float64\n",
      " 11  Fluoride_class  12205 non-null  int64  \n",
      "dtypes: float64(10), int64(2)\n",
      "memory usage: 1.1 MB\n"
     ]
    }
   ],
   "source": [
    "df.info()"
   ]
  },
  {
   "cell_type": "code",
   "execution_count": 8,
   "id": "619e43bc",
   "metadata": {},
   "outputs": [
    {
     "data": {
      "text/html": [
       "<div>\n",
       "<style scoped>\n",
       "    .dataframe tbody tr th:only-of-type {\n",
       "        vertical-align: middle;\n",
       "    }\n",
       "\n",
       "    .dataframe tbody tr th {\n",
       "        vertical-align: top;\n",
       "    }\n",
       "\n",
       "    .dataframe thead th {\n",
       "        text-align: right;\n",
       "    }\n",
       "</style>\n",
       "<table border=\"1\" class=\"dataframe\">\n",
       "  <thead>\n",
       "    <tr style=\"text-align: right;\">\n",
       "      <th></th>\n",
       "      <th>AET</th>\n",
       "      <th>Aridity(*10k)</th>\n",
       "      <th>Cropland</th>\n",
       "      <th>PET</th>\n",
       "      <th>Precipitation</th>\n",
       "      <th>Geology</th>\n",
       "      <th>pH</th>\n",
       "      <th>Slope</th>\n",
       "      <th>Clay_content</th>\n",
       "      <th>Sand_content</th>\n",
       "      <th>Slit_content</th>\n",
       "      <th>Fluoride_class</th>\n",
       "    </tr>\n",
       "  </thead>\n",
       "  <tbody>\n",
       "    <tr>\n",
       "      <th>count</th>\n",
       "      <td>12163.000000</td>\n",
       "      <td>11970.000000</td>\n",
       "      <td>12203.000000</td>\n",
       "      <td>12158.000000</td>\n",
       "      <td>12109.000000</td>\n",
       "      <td>12047.00000</td>\n",
       "      <td>12202.000000</td>\n",
       "      <td>12205.000000</td>\n",
       "      <td>12168.000000</td>\n",
       "      <td>12168.000000</td>\n",
       "      <td>12168.000000</td>\n",
       "      <td>12205.000000</td>\n",
       "    </tr>\n",
       "    <tr>\n",
       "      <th>mean</th>\n",
       "      <td>772.108526</td>\n",
       "      <td>6497.699582</td>\n",
       "      <td>61.511022</td>\n",
       "      <td>2015.945879</td>\n",
       "      <td>1269.550665</td>\n",
       "      <td>3.29800</td>\n",
       "      <td>7.780065</td>\n",
       "      <td>985.726014</td>\n",
       "      <td>26.559583</td>\n",
       "      <td>39.080786</td>\n",
       "      <td>24.945266</td>\n",
       "      <td>0.076362</td>\n",
       "    </tr>\n",
       "    <tr>\n",
       "      <th>std</th>\n",
       "      <td>200.105134</td>\n",
       "      <td>4594.698409</td>\n",
       "      <td>25.453348</td>\n",
       "      <td>226.783241</td>\n",
       "      <td>750.749515</td>\n",
       "      <td>1.43745</td>\n",
       "      <td>0.519431</td>\n",
       "      <td>845.303948</td>\n",
       "      <td>15.093051</td>\n",
       "      <td>19.563503</td>\n",
       "      <td>10.765534</td>\n",
       "      <td>0.265588</td>\n",
       "    </tr>\n",
       "    <tr>\n",
       "      <th>min</th>\n",
       "      <td>81.000000</td>\n",
       "      <td>418.000000</td>\n",
       "      <td>0.000000</td>\n",
       "      <td>1257.000000</td>\n",
       "      <td>111.000000</td>\n",
       "      <td>1.00000</td>\n",
       "      <td>3.720000</td>\n",
       "      <td>1.000000</td>\n",
       "      <td>0.000000</td>\n",
       "      <td>0.000000</td>\n",
       "      <td>0.000000</td>\n",
       "      <td>0.000000</td>\n",
       "    </tr>\n",
       "    <tr>\n",
       "      <th>25%</th>\n",
       "      <td>680.000000</td>\n",
       "      <td>3724.250000</td>\n",
       "      <td>58.000000</td>\n",
       "      <td>1863.000000</td>\n",
       "      <td>836.000000</td>\n",
       "      <td>2.00000</td>\n",
       "      <td>7.480000</td>\n",
       "      <td>251.000000</td>\n",
       "      <td>20.000000</td>\n",
       "      <td>35.000000</td>\n",
       "      <td>21.000000</td>\n",
       "      <td>0.000000</td>\n",
       "    </tr>\n",
       "    <tr>\n",
       "      <th>50%</th>\n",
       "      <td>794.000000</td>\n",
       "      <td>5325.000000</td>\n",
       "      <td>70.000000</td>\n",
       "      <td>2018.000000</td>\n",
       "      <td>1104.000000</td>\n",
       "      <td>4.00000</td>\n",
       "      <td>7.800000</td>\n",
       "      <td>793.000000</td>\n",
       "      <td>23.000000</td>\n",
       "      <td>39.000000</td>\n",
       "      <td>27.000000</td>\n",
       "      <td>0.000000</td>\n",
       "    </tr>\n",
       "    <tr>\n",
       "      <th>75%</th>\n",
       "      <td>882.000000</td>\n",
       "      <td>7149.000000</td>\n",
       "      <td>78.000000</td>\n",
       "      <td>2189.000000</td>\n",
       "      <td>1378.000000</td>\n",
       "      <td>4.00000</td>\n",
       "      <td>8.100000</td>\n",
       "      <td>1516.000000</td>\n",
       "      <td>24.000000</td>\n",
       "      <td>41.000000</td>\n",
       "      <td>30.000000</td>\n",
       "      <td>0.000000</td>\n",
       "    </tr>\n",
       "    <tr>\n",
       "      <th>max</th>\n",
       "      <td>1313.000000</td>\n",
       "      <td>39152.000000</td>\n",
       "      <td>100.000000</td>\n",
       "      <td>2657.000000</td>\n",
       "      <td>5303.000000</td>\n",
       "      <td>6.00000</td>\n",
       "      <td>9.990000</td>\n",
       "      <td>4156.000000</td>\n",
       "      <td>59.000000</td>\n",
       "      <td>89.000000</td>\n",
       "      <td>45.000000</td>\n",
       "      <td>1.000000</td>\n",
       "    </tr>\n",
       "  </tbody>\n",
       "</table>\n",
       "</div>"
      ],
      "text/plain": [
       "                AET  Aridity(*10k)      Cropland           PET  Precipitation  \\\n",
       "count  12163.000000   11970.000000  12203.000000  12158.000000   12109.000000   \n",
       "mean     772.108526    6497.699582     61.511022   2015.945879    1269.550665   \n",
       "std      200.105134    4594.698409     25.453348    226.783241     750.749515   \n",
       "min       81.000000     418.000000      0.000000   1257.000000     111.000000   \n",
       "25%      680.000000    3724.250000     58.000000   1863.000000     836.000000   \n",
       "50%      794.000000    5325.000000     70.000000   2018.000000    1104.000000   \n",
       "75%      882.000000    7149.000000     78.000000   2189.000000    1378.000000   \n",
       "max     1313.000000   39152.000000    100.000000   2657.000000    5303.000000   \n",
       "\n",
       "           Geology            pH         Slope  Clay_content  Sand_content  \\\n",
       "count  12047.00000  12202.000000  12205.000000  12168.000000  12168.000000   \n",
       "mean       3.29800      7.780065    985.726014     26.559583     39.080786   \n",
       "std        1.43745      0.519431    845.303948     15.093051     19.563503   \n",
       "min        1.00000      3.720000      1.000000      0.000000      0.000000   \n",
       "25%        2.00000      7.480000    251.000000     20.000000     35.000000   \n",
       "50%        4.00000      7.800000    793.000000     23.000000     39.000000   \n",
       "75%        4.00000      8.100000   1516.000000     24.000000     41.000000   \n",
       "max        6.00000      9.990000   4156.000000     59.000000     89.000000   \n",
       "\n",
       "       Slit_content  Fluoride_class  \n",
       "count  12168.000000    12205.000000  \n",
       "mean      24.945266        0.076362  \n",
       "std       10.765534        0.265588  \n",
       "min        0.000000        0.000000  \n",
       "25%       21.000000        0.000000  \n",
       "50%       27.000000        0.000000  \n",
       "75%       30.000000        0.000000  \n",
       "max       45.000000        1.000000  "
      ]
     },
     "execution_count": 8,
     "metadata": {},
     "output_type": "execute_result"
    }
   ],
   "source": [
    "df.describe()"
   ]
  },
  {
   "cell_type": "code",
   "execution_count": 9,
   "id": "da66e0c2",
   "metadata": {},
   "outputs": [
    {
     "data": {
      "text/plain": [
       "AET                42\n",
       "Aridity(*10k)     235\n",
       "Cropland            2\n",
       "PET                47\n",
       "Precipitation      96\n",
       "Geology           158\n",
       "pH                  3\n",
       "Slope               0\n",
       "Clay_content       37\n",
       "Sand_content       37\n",
       "Slit_content       37\n",
       "Fluoride_class      0\n",
       "dtype: int64"
      ]
     },
     "execution_count": 9,
     "metadata": {},
     "output_type": "execute_result"
    }
   ],
   "source": [
    "df.isnull().sum()"
   ]
  },
  {
   "cell_type": "code",
   "execution_count": 10,
   "id": "23846686",
   "metadata": {},
   "outputs": [],
   "source": [
    "data = df.dropna()"
   ]
  },
  {
   "cell_type": "code",
   "execution_count": 11,
   "id": "f49beea8",
   "metadata": {},
   "outputs": [
    {
     "data": {
      "text/plain": [
       "AET               0\n",
       "Aridity(*10k)     0\n",
       "Cropland          0\n",
       "PET               0\n",
       "Precipitation     0\n",
       "Geology           0\n",
       "pH                0\n",
       "Slope             0\n",
       "Clay_content      0\n",
       "Sand_content      0\n",
       "Slit_content      0\n",
       "Fluoride_class    0\n",
       "dtype: int64"
      ]
     },
     "execution_count": 11,
     "metadata": {},
     "output_type": "execute_result"
    }
   ],
   "source": [
    "data.isnull().sum()"
   ]
  },
  {
   "cell_type": "code",
   "execution_count": 12,
   "id": "c7b64edf",
   "metadata": {
    "scrolled": true
   },
   "outputs": [
    {
     "data": {
      "text/html": [
       "<div>\n",
       "<style scoped>\n",
       "    .dataframe tbody tr th:only-of-type {\n",
       "        vertical-align: middle;\n",
       "    }\n",
       "\n",
       "    .dataframe tbody tr th {\n",
       "        vertical-align: top;\n",
       "    }\n",
       "\n",
       "    .dataframe thead th {\n",
       "        text-align: right;\n",
       "    }\n",
       "</style>\n",
       "<table border=\"1\" class=\"dataframe\">\n",
       "  <thead>\n",
       "    <tr style=\"text-align: right;\">\n",
       "      <th></th>\n",
       "      <th>AET</th>\n",
       "      <th>Aridity(*10k)</th>\n",
       "      <th>Cropland</th>\n",
       "      <th>PET</th>\n",
       "      <th>Precipitation</th>\n",
       "      <th>Geology</th>\n",
       "      <th>pH</th>\n",
       "      <th>Slope</th>\n",
       "      <th>Clay_content</th>\n",
       "      <th>Sand_content</th>\n",
       "      <th>Slit_content</th>\n",
       "      <th>Fluoride_class</th>\n",
       "    </tr>\n",
       "  </thead>\n",
       "  <tbody>\n",
       "    <tr>\n",
       "      <th>count</th>\n",
       "      <td>11845.000000</td>\n",
       "      <td>11845.000000</td>\n",
       "      <td>11845.000000</td>\n",
       "      <td>11845.000000</td>\n",
       "      <td>11845.000000</td>\n",
       "      <td>11845.000000</td>\n",
       "      <td>11845.000000</td>\n",
       "      <td>11845.000000</td>\n",
       "      <td>11845.000000</td>\n",
       "      <td>11845.000000</td>\n",
       "      <td>11845.000000</td>\n",
       "      <td>11845.000000</td>\n",
       "    </tr>\n",
       "    <tr>\n",
       "      <th>mean</th>\n",
       "      <td>767.787168</td>\n",
       "      <td>6432.359392</td>\n",
       "      <td>62.529000</td>\n",
       "      <td>2019.709413</td>\n",
       "      <td>1247.791304</td>\n",
       "      <td>3.288392</td>\n",
       "      <td>7.785060</td>\n",
       "      <td>996.026256</td>\n",
       "      <td>26.784044</td>\n",
       "      <td>38.633685</td>\n",
       "      <td>25.018911</td>\n",
       "      <td>0.078008</td>\n",
       "    </tr>\n",
       "    <tr>\n",
       "      <th>std</th>\n",
       "      <td>198.532082</td>\n",
       "      <td>4528.060241</td>\n",
       "      <td>24.519632</td>\n",
       "      <td>225.746412</td>\n",
       "      <td>725.710590</td>\n",
       "      <td>1.443956</td>\n",
       "      <td>0.513671</td>\n",
       "      <td>845.845025</td>\n",
       "      <td>15.097062</td>\n",
       "      <td>19.278070</td>\n",
       "      <td>10.729117</td>\n",
       "      <td>0.268195</td>\n",
       "    </tr>\n",
       "    <tr>\n",
       "      <th>min</th>\n",
       "      <td>81.000000</td>\n",
       "      <td>418.000000</td>\n",
       "      <td>0.000000</td>\n",
       "      <td>1257.000000</td>\n",
       "      <td>111.000000</td>\n",
       "      <td>1.000000</td>\n",
       "      <td>3.720000</td>\n",
       "      <td>1.000000</td>\n",
       "      <td>0.000000</td>\n",
       "      <td>0.000000</td>\n",
       "      <td>0.000000</td>\n",
       "      <td>0.000000</td>\n",
       "    </tr>\n",
       "    <tr>\n",
       "      <th>25%</th>\n",
       "      <td>678.000000</td>\n",
       "      <td>3716.000000</td>\n",
       "      <td>60.000000</td>\n",
       "      <td>1869.000000</td>\n",
       "      <td>829.000000</td>\n",
       "      <td>2.000000</td>\n",
       "      <td>7.480000</td>\n",
       "      <td>261.000000</td>\n",
       "      <td>20.000000</td>\n",
       "      <td>35.000000</td>\n",
       "      <td>22.000000</td>\n",
       "      <td>0.000000</td>\n",
       "    </tr>\n",
       "    <tr>\n",
       "      <th>50%</th>\n",
       "      <td>792.000000</td>\n",
       "      <td>5299.000000</td>\n",
       "      <td>71.000000</td>\n",
       "      <td>2022.000000</td>\n",
       "      <td>1096.000000</td>\n",
       "      <td>4.000000</td>\n",
       "      <td>7.800000</td>\n",
       "      <td>816.000000</td>\n",
       "      <td>23.000000</td>\n",
       "      <td>39.000000</td>\n",
       "      <td>27.000000</td>\n",
       "      <td>0.000000</td>\n",
       "    </tr>\n",
       "    <tr>\n",
       "      <th>75%</th>\n",
       "      <td>877.000000</td>\n",
       "      <td>7113.000000</td>\n",
       "      <td>78.000000</td>\n",
       "      <td>2192.000000</td>\n",
       "      <td>1368.000000</td>\n",
       "      <td>4.000000</td>\n",
       "      <td>8.100000</td>\n",
       "      <td>1525.000000</td>\n",
       "      <td>24.000000</td>\n",
       "      <td>40.000000</td>\n",
       "      <td>30.000000</td>\n",
       "      <td>0.000000</td>\n",
       "    </tr>\n",
       "    <tr>\n",
       "      <th>max</th>\n",
       "      <td>1313.000000</td>\n",
       "      <td>39152.000000</td>\n",
       "      <td>100.000000</td>\n",
       "      <td>2657.000000</td>\n",
       "      <td>5303.000000</td>\n",
       "      <td>6.000000</td>\n",
       "      <td>9.990000</td>\n",
       "      <td>4156.000000</td>\n",
       "      <td>59.000000</td>\n",
       "      <td>89.000000</td>\n",
       "      <td>45.000000</td>\n",
       "      <td>1.000000</td>\n",
       "    </tr>\n",
       "  </tbody>\n",
       "</table>\n",
       "</div>"
      ],
      "text/plain": [
       "                AET  Aridity(*10k)      Cropland           PET  Precipitation  \\\n",
       "count  11845.000000   11845.000000  11845.000000  11845.000000   11845.000000   \n",
       "mean     767.787168    6432.359392     62.529000   2019.709413    1247.791304   \n",
       "std      198.532082    4528.060241     24.519632    225.746412     725.710590   \n",
       "min       81.000000     418.000000      0.000000   1257.000000     111.000000   \n",
       "25%      678.000000    3716.000000     60.000000   1869.000000     829.000000   \n",
       "50%      792.000000    5299.000000     71.000000   2022.000000    1096.000000   \n",
       "75%      877.000000    7113.000000     78.000000   2192.000000    1368.000000   \n",
       "max     1313.000000   39152.000000    100.000000   2657.000000    5303.000000   \n",
       "\n",
       "            Geology            pH         Slope  Clay_content  Sand_content  \\\n",
       "count  11845.000000  11845.000000  11845.000000  11845.000000  11845.000000   \n",
       "mean       3.288392      7.785060    996.026256     26.784044     38.633685   \n",
       "std        1.443956      0.513671    845.845025     15.097062     19.278070   \n",
       "min        1.000000      3.720000      1.000000      0.000000      0.000000   \n",
       "25%        2.000000      7.480000    261.000000     20.000000     35.000000   \n",
       "50%        4.000000      7.800000    816.000000     23.000000     39.000000   \n",
       "75%        4.000000      8.100000   1525.000000     24.000000     40.000000   \n",
       "max        6.000000      9.990000   4156.000000     59.000000     89.000000   \n",
       "\n",
       "       Slit_content  Fluoride_class  \n",
       "count  11845.000000    11845.000000  \n",
       "mean      25.018911        0.078008  \n",
       "std       10.729117        0.268195  \n",
       "min        0.000000        0.000000  \n",
       "25%       22.000000        0.000000  \n",
       "50%       27.000000        0.000000  \n",
       "75%       30.000000        0.000000  \n",
       "max       45.000000        1.000000  "
      ]
     },
     "execution_count": 12,
     "metadata": {},
     "output_type": "execute_result"
    }
   ],
   "source": [
    "data.describe()"
   ]
  },
  {
   "cell_type": "markdown",
   "id": "348105cf",
   "metadata": {},
   "source": [
    "## Encoding "
   ]
  },
  {
   "cell_type": "code",
   "execution_count": 13,
   "id": "5ef8eba5",
   "metadata": {},
   "outputs": [
    {
     "name": "stdout",
     "output_type": "stream",
     "text": [
      "Number of unique values: 6\n"
     ]
    }
   ],
   "source": [
    "geo_unique = data['Geology'].nunique()\n",
    "print(\"Number of unique values:\", geo_unique)"
   ]
  },
  {
   "cell_type": "code",
   "execution_count": 14,
   "id": "80a61166",
   "metadata": {},
   "outputs": [
    {
     "data": {
      "text/html": [
       "<div>\n",
       "<style scoped>\n",
       "    .dataframe tbody tr th:only-of-type {\n",
       "        vertical-align: middle;\n",
       "    }\n",
       "\n",
       "    .dataframe tbody tr th {\n",
       "        vertical-align: top;\n",
       "    }\n",
       "\n",
       "    .dataframe thead th {\n",
       "        text-align: right;\n",
       "    }\n",
       "</style>\n",
       "<table border=\"1\" class=\"dataframe\">\n",
       "  <thead>\n",
       "    <tr style=\"text-align: right;\">\n",
       "      <th></th>\n",
       "      <th>AET</th>\n",
       "      <th>Aridity(*10k)</th>\n",
       "      <th>Cropland</th>\n",
       "      <th>PET</th>\n",
       "      <th>Precipitation</th>\n",
       "      <th>Geology</th>\n",
       "      <th>pH</th>\n",
       "      <th>Slope</th>\n",
       "      <th>Clay_content</th>\n",
       "      <th>Sand_content</th>\n",
       "      <th>Slit_content</th>\n",
       "      <th>Fluoride_class</th>\n",
       "    </tr>\n",
       "  </thead>\n",
       "  <tbody>\n",
       "    <tr>\n",
       "      <th>0</th>\n",
       "      <td>949.0</td>\n",
       "      <td>6799.0</td>\n",
       "      <td>74.0</td>\n",
       "      <td>1772.0</td>\n",
       "      <td>1377.0</td>\n",
       "      <td>4.0</td>\n",
       "      <td>8.44</td>\n",
       "      <td>38</td>\n",
       "      <td>19.0</td>\n",
       "      <td>50.0</td>\n",
       "      <td>32.0</td>\n",
       "      <td>0</td>\n",
       "    </tr>\n",
       "    <tr>\n",
       "      <th>1</th>\n",
       "      <td>941.0</td>\n",
       "      <td>6575.0</td>\n",
       "      <td>72.0</td>\n",
       "      <td>1786.0</td>\n",
       "      <td>1088.0</td>\n",
       "      <td>4.0</td>\n",
       "      <td>8.40</td>\n",
       "      <td>357</td>\n",
       "      <td>10.0</td>\n",
       "      <td>70.0</td>\n",
       "      <td>9.0</td>\n",
       "      <td>0</td>\n",
       "    </tr>\n",
       "    <tr>\n",
       "      <th>2</th>\n",
       "      <td>935.0</td>\n",
       "      <td>6471.0</td>\n",
       "      <td>65.0</td>\n",
       "      <td>1784.0</td>\n",
       "      <td>1088.0</td>\n",
       "      <td>4.0</td>\n",
       "      <td>8.40</td>\n",
       "      <td>357</td>\n",
       "      <td>10.0</td>\n",
       "      <td>70.0</td>\n",
       "      <td>9.0</td>\n",
       "      <td>0</td>\n",
       "    </tr>\n",
       "    <tr>\n",
       "      <th>3</th>\n",
       "      <td>905.0</td>\n",
       "      <td>6163.0</td>\n",
       "      <td>72.0</td>\n",
       "      <td>1789.0</td>\n",
       "      <td>1088.0</td>\n",
       "      <td>4.0</td>\n",
       "      <td>8.12</td>\n",
       "      <td>510</td>\n",
       "      <td>10.0</td>\n",
       "      <td>70.0</td>\n",
       "      <td>9.0</td>\n",
       "      <td>0</td>\n",
       "    </tr>\n",
       "    <tr>\n",
       "      <th>4</th>\n",
       "      <td>1017.0</td>\n",
       "      <td>9284.0</td>\n",
       "      <td>48.0</td>\n",
       "      <td>1718.0</td>\n",
       "      <td>1702.0</td>\n",
       "      <td>4.0</td>\n",
       "      <td>8.12</td>\n",
       "      <td>209</td>\n",
       "      <td>10.0</td>\n",
       "      <td>70.0</td>\n",
       "      <td>9.0</td>\n",
       "      <td>0</td>\n",
       "    </tr>\n",
       "    <tr>\n",
       "      <th>...</th>\n",
       "      <td>...</td>\n",
       "      <td>...</td>\n",
       "      <td>...</td>\n",
       "      <td>...</td>\n",
       "      <td>...</td>\n",
       "      <td>...</td>\n",
       "      <td>...</td>\n",
       "      <td>...</td>\n",
       "      <td>...</td>\n",
       "      <td>...</td>\n",
       "      <td>...</td>\n",
       "      <td>...</td>\n",
       "    </tr>\n",
       "    <tr>\n",
       "      <th>12200</th>\n",
       "      <td>952.0</td>\n",
       "      <td>7279.0</td>\n",
       "      <td>100.0</td>\n",
       "      <td>1750.0</td>\n",
       "      <td>1411.0</td>\n",
       "      <td>4.0</td>\n",
       "      <td>7.10</td>\n",
       "      <td>1789</td>\n",
       "      <td>18.0</td>\n",
       "      <td>37.0</td>\n",
       "      <td>45.0</td>\n",
       "      <td>0</td>\n",
       "    </tr>\n",
       "    <tr>\n",
       "      <th>12201</th>\n",
       "      <td>945.0</td>\n",
       "      <td>7149.0</td>\n",
       "      <td>100.0</td>\n",
       "      <td>1744.0</td>\n",
       "      <td>1411.0</td>\n",
       "      <td>4.0</td>\n",
       "      <td>6.80</td>\n",
       "      <td>1789</td>\n",
       "      <td>18.0</td>\n",
       "      <td>37.0</td>\n",
       "      <td>45.0</td>\n",
       "      <td>0</td>\n",
       "    </tr>\n",
       "    <tr>\n",
       "      <th>12202</th>\n",
       "      <td>967.0</td>\n",
       "      <td>7545.0</td>\n",
       "      <td>99.0</td>\n",
       "      <td>1728.0</td>\n",
       "      <td>1397.0</td>\n",
       "      <td>4.0</td>\n",
       "      <td>6.95</td>\n",
       "      <td>1169</td>\n",
       "      <td>22.0</td>\n",
       "      <td>40.0</td>\n",
       "      <td>35.0</td>\n",
       "      <td>0</td>\n",
       "    </tr>\n",
       "    <tr>\n",
       "      <th>12203</th>\n",
       "      <td>964.0</td>\n",
       "      <td>7223.0</td>\n",
       "      <td>100.0</td>\n",
       "      <td>1719.0</td>\n",
       "      <td>1266.0</td>\n",
       "      <td>4.0</td>\n",
       "      <td>7.55</td>\n",
       "      <td>753</td>\n",
       "      <td>22.0</td>\n",
       "      <td>40.0</td>\n",
       "      <td>35.0</td>\n",
       "      <td>0</td>\n",
       "    </tr>\n",
       "    <tr>\n",
       "      <th>12204</th>\n",
       "      <td>1079.0</td>\n",
       "      <td>9682.0</td>\n",
       "      <td>41.0</td>\n",
       "      <td>1668.0</td>\n",
       "      <td>1370.0</td>\n",
       "      <td>4.0</td>\n",
       "      <td>7.32</td>\n",
       "      <td>9</td>\n",
       "      <td>10.0</td>\n",
       "      <td>70.0</td>\n",
       "      <td>9.0</td>\n",
       "      <td>0</td>\n",
       "    </tr>\n",
       "  </tbody>\n",
       "</table>\n",
       "<p>11845 rows × 12 columns</p>\n",
       "</div>"
      ],
      "text/plain": [
       "          AET  Aridity(*10k)  Cropland     PET  Precipitation  Geology    pH  \\\n",
       "0       949.0         6799.0      74.0  1772.0         1377.0      4.0  8.44   \n",
       "1       941.0         6575.0      72.0  1786.0         1088.0      4.0  8.40   \n",
       "2       935.0         6471.0      65.0  1784.0         1088.0      4.0  8.40   \n",
       "3       905.0         6163.0      72.0  1789.0         1088.0      4.0  8.12   \n",
       "4      1017.0         9284.0      48.0  1718.0         1702.0      4.0  8.12   \n",
       "...       ...            ...       ...     ...            ...      ...   ...   \n",
       "12200   952.0         7279.0     100.0  1750.0         1411.0      4.0  7.10   \n",
       "12201   945.0         7149.0     100.0  1744.0         1411.0      4.0  6.80   \n",
       "12202   967.0         7545.0      99.0  1728.0         1397.0      4.0  6.95   \n",
       "12203   964.0         7223.0     100.0  1719.0         1266.0      4.0  7.55   \n",
       "12204  1079.0         9682.0      41.0  1668.0         1370.0      4.0  7.32   \n",
       "\n",
       "       Slope  Clay_content  Sand_content  Slit_content  Fluoride_class  \n",
       "0         38          19.0          50.0          32.0               0  \n",
       "1        357          10.0          70.0           9.0               0  \n",
       "2        357          10.0          70.0           9.0               0  \n",
       "3        510          10.0          70.0           9.0               0  \n",
       "4        209          10.0          70.0           9.0               0  \n",
       "...      ...           ...           ...           ...             ...  \n",
       "12200   1789          18.0          37.0          45.0               0  \n",
       "12201   1789          18.0          37.0          45.0               0  \n",
       "12202   1169          22.0          40.0          35.0               0  \n",
       "12203    753          22.0          40.0          35.0               0  \n",
       "12204      9          10.0          70.0           9.0               0  \n",
       "\n",
       "[11845 rows x 12 columns]"
      ]
     },
     "execution_count": 14,
     "metadata": {},
     "output_type": "execute_result"
    }
   ],
   "source": [
    "data"
   ]
  },
  {
   "cell_type": "markdown",
   "id": "489c2c37",
   "metadata": {},
   "source": [
    "## Visualization\n"
   ]
  },
  {
   "cell_type": "code",
   "execution_count": 15,
   "id": "2507cda5",
   "metadata": {},
   "outputs": [
    {
     "data": {
      "text/plain": [
       "<AxesSubplot:>"
      ]
     },
     "execution_count": 15,
     "metadata": {},
     "output_type": "execute_result"
    },
    {
     "data": {
      "image/png": "[encoded data removed]",
      "text/plain": [
       "<Figure size 864x576 with 2 Axes>"
      ]
     },
     "metadata": {
      "needs_background": "light"
     },
     "output_type": "display_data"
    }
   ],
   "source": [
    "plt.figure(figsize=(12,8))\n",
    "sns.heatmap(data.corr(), annot=True)\n"
   ]
  },
  {
   "cell_type": "code",
   "execution_count": 16,
   "id": "b0f6c17b",
   "metadata": {},
   "outputs": [
    {
     "data": {
      "text/plain": [
       "<AxesSubplot:xlabel='Fluoride_class', ylabel='count'>"
      ]
     },
     "execution_count": 16,
     "metadata": {},
     "output_type": "execute_result"
    },
    {
     "data": {
      "image/png": "[encoded data removed]",
      "text/plain": [
       "<Figure size 432x288 with 1 Axes>"
      ]
     },
     "metadata": {
      "needs_background": "light"
     },
     "output_type": "display_data"
    }
   ],
   "source": [
    "sns.countplot(x = \"Fluoride_class\", data = data)"
   ]
  },
  {
   "cell_type": "code",
   "execution_count": 17,
   "id": "c7e4ea78",
   "metadata": {},
   "outputs": [
    {
     "data": {
      "text/plain": [
       "0    10921\n",
       "1      924\n",
       "Name: Fluoride_class, dtype: int64"
      ]
     },
     "execution_count": 17,
     "metadata": {},
     "output_type": "execute_result"
    }
   ],
   "source": [
    "data[\"Fluoride_class\"].value_counts()"
   ]
  },
  {
   "cell_type": "code",
   "execution_count": 18,
   "id": "e20d3a43",
   "metadata": {},
   "outputs": [],
   "source": [
    "x = data.drop(\"Fluoride_class\", axis = 1)\n",
    "y = data[\"Fluoride_class\"]"
   ]
  },
  {
   "cell_type": "code",
   "execution_count": 19,
   "id": "839a18be",
   "metadata": {},
   "outputs": [
    {
     "data": {
      "text/plain": [
       "((11845, 11), (11845,))"
      ]
     },
     "execution_count": 19,
     "metadata": {},
     "output_type": "execute_result"
    }
   ],
   "source": [
    "x.shape, y.shape"
   ]
  },
  {
   "cell_type": "code",
   "execution_count": 20,
   "id": "c6a19b4c",
   "metadata": {},
   "outputs": [
    {
     "data": {
      "text/plain": [
       "array([[ 0.912802  ,  0.08097421,  0.46784897, ..., -0.51562169,\n",
       "         0.58962305,  0.65069506],\n",
       "       [ 0.87250455,  0.03150281,  0.38627823, ..., -1.11178934,\n",
       "         1.62711507, -1.49309458],\n",
       "       [ 0.84228146,  0.00853395,  0.10078066, ..., -1.11178934,\n",
       "         1.62711507, -1.49309458],\n",
       "       ...,\n",
       "       [ 1.00347128,  0.24573162,  1.48748316, ..., -0.31689914,\n",
       "         0.07087704,  0.9303198 ],\n",
       "       [ 0.98835973,  0.17461649,  1.52826852, ..., -0.31689914,\n",
       "         0.07087704,  0.9303198 ],\n",
       "       [ 1.56763565,  0.71769756, -0.87806816, ..., -1.11178934,\n",
       "         1.62711507, -1.49309458]])"
      ]
     },
     "execution_count": 20,
     "metadata": {},
     "output_type": "execute_result"
    }
   ],
   "source": [
    "scaler = StandardScaler()\n",
    "x = scaler.fit_transform(x)\n",
    "x"
   ]
  },
  {
   "cell_type": "code",
   "execution_count": 21,
   "id": "1f3cd806",
   "metadata": {},
   "outputs": [],
   "source": [
    "x_train, x_test, y_train, y_test = train_test_split(x, y, test_size = 0.2)"
   ]
  },
  {
   "cell_type": "code",
   "execution_count": 22,
   "id": "479f17f6",
   "metadata": {},
   "outputs": [
    {
     "data": {
      "text/plain": [
       "((9476, 11), (2369, 11))"
      ]
     },
     "execution_count": 22,
     "metadata": {},
     "output_type": "execute_result"
    }
   ],
   "source": [
    "x_train.shape, x_test.shape"
   ]
  },
  {
   "cell_type": "markdown",
   "id": "fba1d95f",
   "metadata": {},
   "source": [
    "# Model Training"
   ]
  },
  {
   "cell_type": "markdown",
   "id": "ea8bd5f4",
   "metadata": {},
   "source": [
    "## Logistic Regression"
   ]
  },
  {
   "cell_type": "code",
   "execution_count": 23,
   "id": "91948ef1",
   "metadata": {},
   "outputs": [],
   "source": [
    "from sklearn.linear_model import LogisticRegression\n",
    "\n",
    "#object of LR\n",
    "model_lr = LogisticRegression()"
   ]
  },
  {
   "cell_type": "code",
   "execution_count": 24,
   "id": "6b902747",
   "metadata": {},
   "outputs": [
    {
     "data": {
      "text/html": [
       "<style>#sk-container-id-1 {color: black;}#sk-container-id-1 pre{padding: 0;}#sk-container-id-1 div.sk-toggleable {background-color: white;}#sk-container-id-1 label.sk-toggleable__label {cursor: pointer;display: block;width: 100%;margin-bottom: 0;padding: 0.3em;box-sizing: border-box;text-align: center;}#sk-container-id-1 label.sk-toggleable__label-arrow:before {content: \"▸\";float: left;margin-right: 0.25em;color: #696969;}#sk-container-id-1 label.sk-toggleable__label-arrow:hover:before {color: black;}#sk-container-id-1 div.sk-estimator:hover label.sk-toggleable__label-arrow:before {color: black;}#sk-container-id-1 div.sk-toggleable__content {max-height: 0;max-width: 0;overflow: hidden;text-align: left;background-color: #f0f8ff;}#sk-container-id-1 div.sk-toggleable__content pre {margin: 0.2em;color: black;border-radius: 0.25em;background-color: #f0f8ff;}#sk-container-id-1 input.sk-toggleable__control:checked~div.sk-toggleable__content {max-height: 200px;max-width: 100%;overflow: auto;}#sk-container-id-1 input.sk-toggleable__control:checked~label.sk-toggleable__label-arrow:before {content: \"▾\";}#sk-container-id-1 div.sk-estimator input.sk-toggleable__control:checked~label.sk-toggleable__label {background-color: #d4ebff;}#sk-container-id-1 div.sk-label input.sk-toggleable__control:checked~label.sk-toggleable__label {background-color: #d4ebff;}#sk-container-id-1 input.sk-hidden--visually {border: 0;clip: rect(1px 1px 1px 1px);clip: rect(1px, 1px, 1px, 1px);height: 1px;margin: -1px;overflow: hidden;padding: 0;position: absolute;width: 1px;}#sk-container-id-1 div.sk-estimator {font-family: monospace;background-color: #f0f8ff;border: 1px dotted black;border-radius: 0.25em;box-sizing: border-box;margin-bottom: 0.5em;}#sk-container-id-1 div.sk-estimator:hover {background-color: #d4ebff;}#sk-container-id-1 div.sk-parallel-item::after {content: \"\";width: 100%;border-bottom: 1px solid gray;flex-grow: 1;}#sk-container-id-1 div.sk-label:hover label.sk-toggleable__label {background-color: #d4ebff;}#sk-container-id-1 div.sk-serial::before {content: \"\";position: absolute;border-left: 1px solid gray;box-sizing: border-box;top: 0;bottom: 0;left: 50%;z-index: 0;}#sk-container-id-1 div.sk-serial {display: flex;flex-direction: column;align-items: center;background-color: white;padding-right: 0.2em;padding-left: 0.2em;position: relative;}#sk-container-id-1 div.sk-item {position: relative;z-index: 1;}#sk-container-id-1 div.sk-parallel {display: flex;align-items: stretch;justify-content: center;background-color: white;position: relative;}#sk-container-id-1 div.sk-item::before, #sk-container-id-1 div.sk-parallel-item::before {content: \"\";position: absolute;border-left: 1px solid gray;box-sizing: border-box;top: 0;bottom: 0;left: 50%;z-index: -1;}#sk-container-id-1 div.sk-parallel-item {display: flex;flex-direction: column;z-index: 1;position: relative;background-color: white;}#sk-container-id-1 div.sk-parallel-item:first-child::after {align-self: flex-end;width: 50%;}#sk-container-id-1 div.sk-parallel-item:last-child::after {align-self: flex-start;width: 50%;}#sk-container-id-1 div.sk-parallel-item:only-child::after {width: 0;}#sk-container-id-1 div.sk-dashed-wrapped {border: 1px dashed gray;margin: 0 0.4em 0.5em 0.4em;box-sizing: border-box;padding-bottom: 0.4em;background-color: white;}#sk-container-id-1 div.sk-label label {font-family: monospace;font-weight: bold;display: inline-block;line-height: 1.2em;}#sk-container-id-1 div.sk-label-container {text-align: center;}#sk-container-id-1 div.sk-container {/* jupyter's `normalize.less` sets `[hidden] { display: none; }` but bootstrap.min.css set `[hidden] { display: none !important; }` so we also need the `!important` here to be able to override the default hidden behavior on the sphinx rendered scikit-learn.org. See: https://github.com/scikit-learn/scikit-learn/issues/21755 */display: inline-block !important;position: relative;}#sk-container-id-1 div.sk-text-repr-fallback {display: none;}</style><div id=\"sk-container-id-1\" class=\"sk-top-container\"><div class=\"sk-text-repr-fallback\"><pre>LogisticRegression()</pre><b>In a Jupyter environment, please rerun this cell to show the HTML representation or trust the notebook. <br />On GitHub, the HTML representation is unable to render, please try loading this page with nbviewer.org.</b></div><div class=\"sk-container\" hidden><div class=\"sk-item\"><div class=\"sk-estimator sk-toggleable\"><input class=\"sk-toggleable__control sk-hidden--visually\" id=\"sk-estimator-id-1\" type=\"checkbox\" checked><label for=\"sk-estimator-id-1\" class=\"sk-toggleable__label sk-toggleable__label-arrow\">LogisticRegression</label><div class=\"sk-toggleable__content\"><pre>LogisticRegression()</pre></div></div></div></div></div>"
      ],
      "text/plain": [
       "LogisticRegression()"
      ]
     },
     "execution_count": 24,
     "metadata": {},
     "output_type": "execute_result"
    }
   ],
   "source": [
    "#Training Model\n",
    "model_lr.fit(x_train, y_train)"
   ]
  },
  {
   "cell_type": "code",
   "execution_count": 25,
   "id": "66e1a13d",
   "metadata": {},
   "outputs": [],
   "source": [
    "#Making predictions\n",
    "pred_lr = model_lr.predict(x_test)"
   ]
  },
  {
   "cell_type": "code",
   "execution_count": 26,
   "id": "d9d0f947",
   "metadata": {},
   "outputs": [
    {
     "data": {
      "text/plain": [
       "91.6842549598987"
      ]
     },
     "execution_count": 26,
     "metadata": {},
     "output_type": "execute_result"
    }
   ],
   "source": [
    "accuracy_score_lr = accuracy_score(y_test, pred_lr)\n",
    "accuracy_score_lr * 100"
   ]
  },
  {
   "cell_type": "code",
   "execution_count": null,
   "id": "ef17a89d",
   "metadata": {},
   "outputs": [],
   "source": []
  },
  {
   "cell_type": "markdown",
   "id": "108f8f6a",
   "metadata": {},
   "source": [
    "## Decision Tree classifier"
   ]
  },
  {
   "cell_type": "code",
   "execution_count": 27,
   "id": "058511f4",
   "metadata": {},
   "outputs": [],
   "source": [
    "from sklearn.tree import DecisionTreeClassifier\n",
    "\n",
    "# creating the model object\n",
    "model_dt = DecisionTreeClassifier(max_depth = 4)"
   ]
  },
  {
   "cell_type": "code",
   "execution_count": 28,
   "id": "dfa6a6ca",
   "metadata": {},
   "outputs": [
    {
     "data": {
      "text/html": [
       "<style>#sk-container-id-2 {color: black;}#sk-container-id-2 pre{padding: 0;}#sk-container-id-2 div.sk-toggleable {background-color: white;}#sk-container-id-2 label.sk-toggleable__label {cursor: pointer;display: block;width: 100%;margin-bottom: 0;padding: 0.3em;box-sizing: border-box;text-align: center;}#sk-container-id-2 label.sk-toggleable__label-arrow:before {content: \"▸\";float: left;margin-right: 0.25em;color: #696969;}#sk-container-id-2 label.sk-toggleable__label-arrow:hover:before {color: black;}#sk-container-id-2 div.sk-estimator:hover label.sk-toggleable__label-arrow:before {color: black;}#sk-container-id-2 div.sk-toggleable__content {max-height: 0;max-width: 0;overflow: hidden;text-align: left;background-color: #f0f8ff;}#sk-container-id-2 div.sk-toggleable__content pre {margin: 0.2em;color: black;border-radius: 0.25em;background-color: #f0f8ff;}#sk-container-id-2 input.sk-toggleable__control:checked~div.sk-toggleable__content {max-height: 200px;max-width: 100%;overflow: auto;}#sk-container-id-2 input.sk-toggleable__control:checked~label.sk-toggleable__label-arrow:before {content: \"▾\";}#sk-container-id-2 div.sk-estimator input.sk-toggleable__control:checked~label.sk-toggleable__label {background-color: #d4ebff;}#sk-container-id-2 div.sk-label input.sk-toggleable__control:checked~label.sk-toggleable__label {background-color: #d4ebff;}#sk-container-id-2 input.sk-hidden--visually {border: 0;clip: rect(1px 1px 1px 1px);clip: rect(1px, 1px, 1px, 1px);height: 1px;margin: -1px;overflow: hidden;padding: 0;position: absolute;width: 1px;}#sk-container-id-2 div.sk-estimator {font-family: monospace;background-color: #f0f8ff;border: 1px dotted black;border-radius: 0.25em;box-sizing: border-box;margin-bottom: 0.5em;}#sk-container-id-2 div.sk-estimator:hover {background-color: #d4ebff;}#sk-container-id-2 div.sk-parallel-item::after {content: \"\";width: 100%;border-bottom: 1px solid gray;flex-grow: 1;}#sk-container-id-2 div.sk-label:hover label.sk-toggleable__label {background-color: #d4ebff;}#sk-container-id-2 div.sk-serial::before {content: \"\";position: absolute;border-left: 1px solid gray;box-sizing: border-box;top: 0;bottom: 0;left: 50%;z-index: 0;}#sk-container-id-2 div.sk-serial {display: flex;flex-direction: column;align-items: center;background-color: white;padding-right: 0.2em;padding-left: 0.2em;position: relative;}#sk-container-id-2 div.sk-item {position: relative;z-index: 1;}#sk-container-id-2 div.sk-parallel {display: flex;align-items: stretch;justify-content: center;background-color: white;position: relative;}#sk-container-id-2 div.sk-item::before, #sk-container-id-2 div.sk-parallel-item::before {content: \"\";position: absolute;border-left: 1px solid gray;box-sizing: border-box;top: 0;bottom: 0;left: 50%;z-index: -1;}#sk-container-id-2 div.sk-parallel-item {display: flex;flex-direction: column;z-index: 1;position: relative;background-color: white;}#sk-container-id-2 div.sk-parallel-item:first-child::after {align-self: flex-end;width: 50%;}#sk-container-id-2 div.sk-parallel-item:last-child::after {align-self: flex-start;width: 50%;}#sk-container-id-2 div.sk-parallel-item:only-child::after {width: 0;}#sk-container-id-2 div.sk-dashed-wrapped {border: 1px dashed gray;margin: 0 0.4em 0.5em 0.4em;box-sizing: border-box;padding-bottom: 0.4em;background-color: white;}#sk-container-id-2 div.sk-label label {font-family: monospace;font-weight: bold;display: inline-block;line-height: 1.2em;}#sk-container-id-2 div.sk-label-container {text-align: center;}#sk-container-id-2 div.sk-container {/* jupyter's `normalize.less` sets `[hidden] { display: none; }` but bootstrap.min.css set `[hidden] { display: none !important; }` so we also need the `!important` here to be able to override the default hidden behavior on the sphinx rendered scikit-learn.org. See: https://github.com/scikit-learn/scikit-learn/issues/21755 */display: inline-block !important;position: relative;}#sk-container-id-2 div.sk-text-repr-fallback {display: none;}</style><div id=\"sk-container-id-2\" class=\"sk-top-container\"><div class=\"sk-text-repr-fallback\"><pre>DecisionTreeClassifier(max_depth=4)</pre><b>In a Jupyter environment, please rerun this cell to show the HTML representation or trust the notebook. <br />On GitHub, the HTML representation is unable to render, please try loading this page with nbviewer.org.</b></div><div class=\"sk-container\" hidden><div class=\"sk-item\"><div class=\"sk-estimator sk-toggleable\"><input class=\"sk-toggleable__control sk-hidden--visually\" id=\"sk-estimator-id-2\" type=\"checkbox\" checked><label for=\"sk-estimator-id-2\" class=\"sk-toggleable__label sk-toggleable__label-arrow\">DecisionTreeClassifier</label><div class=\"sk-toggleable__content\"><pre>DecisionTreeClassifier(max_depth=4)</pre></div></div></div></div></div>"
      ],
      "text/plain": [
       "DecisionTreeClassifier(max_depth=4)"
      ]
     },
     "execution_count": 28,
     "metadata": {},
     "output_type": "execute_result"
    }
   ],
   "source": [
    "# Training the decision tree\n",
    "model_dt.fit(x_train, y_train)"
   ]
  },
  {
   "cell_type": "code",
   "execution_count": 29,
   "id": "6a658bcf",
   "metadata": {},
   "outputs": [],
   "source": [
    "# Making predictio  using decision tree\n",
    "pred_dt = model_dt.predict(x_test)"
   ]
  },
  {
   "cell_type": "code",
   "execution_count": 30,
   "id": "66b747a6",
   "metadata": {},
   "outputs": [
    {
     "data": {
      "text/plain": [
       "91.76867876741241"
      ]
     },
     "execution_count": 30,
     "metadata": {},
     "output_type": "execute_result"
    }
   ],
   "source": [
    "accuracy_score_dt = accuracy_score(y_test, pred_dt)\n",
    "accuracy_score_dt * 100"
   ]
  },
  {
   "cell_type": "code",
   "execution_count": 31,
   "id": "3ca202d8",
   "metadata": {},
   "outputs": [
    {
     "data": {
      "text/plain": [
       "array([[2174,    0],\n",
       "       [ 195,    0]], dtype=int64)"
      ]
     },
     "execution_count": 31,
     "metadata": {},
     "output_type": "execute_result"
    }
   ],
   "source": [
    "# confusion matrix\n",
    "cm2 = confusion_matrix(y_test, pred_dt)\n",
    "cm2"
   ]
  },
  {
   "cell_type": "code",
   "execution_count": 32,
   "id": "f7f06fbf",
   "metadata": {},
   "outputs": [
    {
     "data": {
      "text/plain": [
       "<AxesSubplot:>"
      ]
     },
     "execution_count": 32,
     "metadata": {},
     "output_type": "execute_result"
    },
    {
     "data": {
      "image/png": "[encoded data removed]",
      "text/plain": [
       "<Figure size 432x288 with 2 Axes>"
      ]
     },
     "metadata": {
      "needs_background": "light"
     },
     "output_type": "display_data"
    }
   ],
   "source": [
    "sns.heatmap(cm2/np.sum(cm2))"
   ]
  },
  {
   "cell_type": "markdown",
   "id": "0222614c",
   "metadata": {},
   "source": [
    "## Random Forest Classifier\n"
   ]
  },
  {
   "cell_type": "code",
   "execution_count": 33,
   "id": "f33ea221",
   "metadata": {},
   "outputs": [],
   "source": [
    "from sklearn.ensemble import RandomForestClassifier\n",
    "\n",
    "# creating object for RF\n",
    "model_rf = RandomForestClassifier()"
   ]
  },
  {
   "cell_type": "code",
   "execution_count": 34,
   "id": "cebb0b68",
   "metadata": {},
   "outputs": [
    {
     "data": {
      "text/html": [
       "<style>#sk-container-id-3 {color: black;}#sk-container-id-3 pre{padding: 0;}#sk-container-id-3 div.sk-toggleable {background-color: white;}#sk-container-id-3 label.sk-toggleable__label {cursor: pointer;display: block;width: 100%;margin-bottom: 0;padding: 0.3em;box-sizing: border-box;text-align: center;}#sk-container-id-3 label.sk-toggleable__label-arrow:before {content: \"▸\";float: left;margin-right: 0.25em;color: #696969;}#sk-container-id-3 label.sk-toggleable__label-arrow:hover:before {color: black;}#sk-container-id-3 div.sk-estimator:hover label.sk-toggleable__label-arrow:before {color: black;}#sk-container-id-3 div.sk-toggleable__content {max-height: 0;max-width: 0;overflow: hidden;text-align: left;background-color: #f0f8ff;}#sk-container-id-3 div.sk-toggleable__content pre {margin: 0.2em;color: black;border-radius: 0.25em;background-color: #f0f8ff;}#sk-container-id-3 input.sk-toggleable__control:checked~div.sk-toggleable__content {max-height: 200px;max-width: 100%;overflow: auto;}#sk-container-id-3 input.sk-toggleable__control:checked~label.sk-toggleable__label-arrow:before {content: \"▾\";}#sk-container-id-3 div.sk-estimator input.sk-toggleable__control:checked~label.sk-toggleable__label {background-color: #d4ebff;}#sk-container-id-3 div.sk-label input.sk-toggleable__control:checked~label.sk-toggleable__label {background-color: #d4ebff;}#sk-container-id-3 input.sk-hidden--visually {border: 0;clip: rect(1px 1px 1px 1px);clip: rect(1px, 1px, 1px, 1px);height: 1px;margin: -1px;overflow: hidden;padding: 0;position: absolute;width: 1px;}#sk-container-id-3 div.sk-estimator {font-family: monospace;background-color: #f0f8ff;border: 1px dotted black;border-radius: 0.25em;box-sizing: border-box;margin-bottom: 0.5em;}#sk-container-id-3 div.sk-estimator:hover {background-color: #d4ebff;}#sk-container-id-3 div.sk-parallel-item::after {content: \"\";width: 100%;border-bottom: 1px solid gray;flex-grow: 1;}#sk-container-id-3 div.sk-label:hover label.sk-toggleable__label {background-color: #d4ebff;}#sk-container-id-3 div.sk-serial::before {content: \"\";position: absolute;border-left: 1px solid gray;box-sizing: border-box;top: 0;bottom: 0;left: 50%;z-index: 0;}#sk-container-id-3 div.sk-serial {display: flex;flex-direction: column;align-items: center;background-color: white;padding-right: 0.2em;padding-left: 0.2em;position: relative;}#sk-container-id-3 div.sk-item {position: relative;z-index: 1;}#sk-container-id-3 div.sk-parallel {display: flex;align-items: stretch;justify-content: center;background-color: white;position: relative;}#sk-container-id-3 div.sk-item::before, #sk-container-id-3 div.sk-parallel-item::before {content: \"\";position: absolute;border-left: 1px solid gray;box-sizing: border-box;top: 0;bottom: 0;left: 50%;z-index: -1;}#sk-container-id-3 div.sk-parallel-item {display: flex;flex-direction: column;z-index: 1;position: relative;background-color: white;}#sk-container-id-3 div.sk-parallel-item:first-child::after {align-self: flex-end;width: 50%;}#sk-container-id-3 div.sk-parallel-item:last-child::after {align-self: flex-start;width: 50%;}#sk-container-id-3 div.sk-parallel-item:only-child::after {width: 0;}#sk-container-id-3 div.sk-dashed-wrapped {border: 1px dashed gray;margin: 0 0.4em 0.5em 0.4em;box-sizing: border-box;padding-bottom: 0.4em;background-color: white;}#sk-container-id-3 div.sk-label label {font-family: monospace;font-weight: bold;display: inline-block;line-height: 1.2em;}#sk-container-id-3 div.sk-label-container {text-align: center;}#sk-container-id-3 div.sk-container {/* jupyter's `normalize.less` sets `[hidden] { display: none; }` but bootstrap.min.css set `[hidden] { display: none !important; }` so we also need the `!important` here to be able to override the default hidden behavior on the sphinx rendered scikit-learn.org. See: https://github.com/scikit-learn/scikit-learn/issues/21755 */display: inline-block !important;position: relative;}#sk-container-id-3 div.sk-text-repr-fallback {display: none;}</style><div id=\"sk-container-id-3\" class=\"sk-top-container\"><div class=\"sk-text-repr-fallback\"><pre>RandomForestClassifier()</pre><b>In a Jupyter environment, please rerun this cell to show the HTML representation or trust the notebook. <br />On GitHub, the HTML representation is unable to render, please try loading this page with nbviewer.org.</b></div><div class=\"sk-container\" hidden><div class=\"sk-item\"><div class=\"sk-estimator sk-toggleable\"><input class=\"sk-toggleable__control sk-hidden--visually\" id=\"sk-estimator-id-3\" type=\"checkbox\" checked><label for=\"sk-estimator-id-3\" class=\"sk-toggleable__label sk-toggleable__label-arrow\">RandomForestClassifier</label><div class=\"sk-toggleable__content\"><pre>RandomForestClassifier()</pre></div></div></div></div></div>"
      ],
      "text/plain": [
       "RandomForestClassifier()"
      ]
     },
     "execution_count": 34,
     "metadata": {},
     "output_type": "execute_result"
    }
   ],
   "source": [
    "# Training model\n",
    "model_rf.fit(x_train, y_train)"
   ]
  },
  {
   "cell_type": "code",
   "execution_count": 35,
   "id": "c7dd26d3",
   "metadata": {},
   "outputs": [],
   "source": [
    "# Making predcitions\n",
    "pred_rf = model_rf.predict(x_test)"
   ]
  },
  {
   "cell_type": "code",
   "execution_count": 36,
   "id": "497d1d18",
   "metadata": {},
   "outputs": [
    {
     "data": {
      "text/plain": [
       "92.02195018995357"
      ]
     },
     "execution_count": 36,
     "metadata": {},
     "output_type": "execute_result"
    }
   ],
   "source": [
    "accuracy_score_rf = accuracy_score(y_test, pred_rf)\n",
    "accuracy_score_rf * 100"
   ]
  },
  {
   "cell_type": "code",
   "execution_count": 37,
   "id": "e32c0c8d",
   "metadata": {},
   "outputs": [
    {
     "data": {
      "text/plain": [
       "array([[2153,   21],\n",
       "       [ 168,   27]], dtype=int64)"
      ]
     },
     "execution_count": 37,
     "metadata": {},
     "output_type": "execute_result"
    }
   ],
   "source": [
    "# confusion matrix\n",
    "cm3 = confusion_matrix(y_test, pred_rf)\n",
    "cm3"
   ]
  },
  {
   "cell_type": "markdown",
   "id": "e42c69c8",
   "metadata": {},
   "source": [
    "## K Nearest Neighbours"
   ]
  },
  {
   "cell_type": "code",
   "execution_count": 38,
   "id": "fa55f0a0",
   "metadata": {},
   "outputs": [],
   "source": [
    "from sklearn.neighbors import KNeighborsClassifier\n",
    "\n",
    "# Creating model object\n",
    "# model_knn = KNeighborsClassifier()"
   ]
  },
  {
   "cell_type": "code",
   "execution_count": 39,
   "id": "026b65ec",
   "metadata": {},
   "outputs": [
    {
     "name": "stdout",
     "output_type": "stream",
     "text": [
      "40 91.64204305614183\n",
      "41 91.59983115238497\n",
      "42 91.59983115238497\n",
      "43 91.64204305614183\n",
      "44 91.64204305614183\n",
      "45 91.6842549598987\n",
      "46 91.6842549598987\n",
      "47 91.6842549598987\n",
      "48 91.76867876741241\n",
      "49 91.6842549598987\n"
     ]
    }
   ],
   "source": [
    "for i in range(40, 50):\n",
    "    model_knn = KNeighborsClassifier(n_neighbors = i)\n",
    "    model_knn.fit(x_train, y_train)\n",
    "    pred_knn = model_knn.predict(x_test)\n",
    "    accuracy_score_knn = accuracy_score(y_test, pred_knn)\n",
    "    print(i, accuracy_score_knn * 100)"
   ]
  },
  {
   "cell_type": "code",
   "execution_count": 40,
   "id": "20d306cd",
   "metadata": {},
   "outputs": [
    {
     "data": {
      "text/plain": [
       "91.64204305614183"
      ]
     },
     "execution_count": 40,
     "metadata": {},
     "output_type": "execute_result"
    }
   ],
   "source": [
    "model_knn = KNeighborsClassifier(n_neighbors = 44)\n",
    "model_knn.fit(x_train, y_train)\n",
    "pred_knn = model_knn.predict(x_test)\n",
    "accuracy_score_knn = accuracy_score(y_test, pred_knn)\n",
    "accuracy_score_knn * 100"
   ]
  },
  {
   "cell_type": "markdown",
   "id": "abe567fb",
   "metadata": {},
   "source": [
    "## Support Vector Machine SVM\n"
   ]
  },
  {
   "cell_type": "code",
   "execution_count": 41,
   "id": "8d6ca20c",
   "metadata": {},
   "outputs": [],
   "source": [
    "from sklearn.svm import SVC\n",
    "\n",
    "# Creating object\n",
    "model_svm = SVC(kernel = \"rbf\")"
   ]
  },
  {
   "cell_type": "code",
   "execution_count": 42,
   "id": "977fbab1",
   "metadata": {},
   "outputs": [
    {
     "data": {
      "text/html": [
       "<style>#sk-container-id-4 {color: black;}#sk-container-id-4 pre{padding: 0;}#sk-container-id-4 div.sk-toggleable {background-color: white;}#sk-container-id-4 label.sk-toggleable__label {cursor: pointer;display: block;width: 100%;margin-bottom: 0;padding: 0.3em;box-sizing: border-box;text-align: center;}#sk-container-id-4 label.sk-toggleable__label-arrow:before {content: \"▸\";float: left;margin-right: 0.25em;color: #696969;}#sk-container-id-4 label.sk-toggleable__label-arrow:hover:before {color: black;}#sk-container-id-4 div.sk-estimator:hover label.sk-toggleable__label-arrow:before {color: black;}#sk-container-id-4 div.sk-toggleable__content {max-height: 0;max-width: 0;overflow: hidden;text-align: left;background-color: #f0f8ff;}#sk-container-id-4 div.sk-toggleable__content pre {margin: 0.2em;color: black;border-radius: 0.25em;background-color: #f0f8ff;}#sk-container-id-4 input.sk-toggleable__control:checked~div.sk-toggleable__content {max-height: 200px;max-width: 100%;overflow: auto;}#sk-container-id-4 input.sk-toggleable__control:checked~label.sk-toggleable__label-arrow:before {content: \"▾\";}#sk-container-id-4 div.sk-estimator input.sk-toggleable__control:checked~label.sk-toggleable__label {background-color: #d4ebff;}#sk-container-id-4 div.sk-label input.sk-toggleable__control:checked~label.sk-toggleable__label {background-color: #d4ebff;}#sk-container-id-4 input.sk-hidden--visually {border: 0;clip: rect(1px 1px 1px 1px);clip: rect(1px, 1px, 1px, 1px);height: 1px;margin: -1px;overflow: hidden;padding: 0;position: absolute;width: 1px;}#sk-container-id-4 div.sk-estimator {font-family: monospace;background-color: #f0f8ff;border: 1px dotted black;border-radius: 0.25em;box-sizing: border-box;margin-bottom: 0.5em;}#sk-container-id-4 div.sk-estimator:hover {background-color: #d4ebff;}#sk-container-id-4 div.sk-parallel-item::after {content: \"\";width: 100%;border-bottom: 1px solid gray;flex-grow: 1;}#sk-container-id-4 div.sk-label:hover label.sk-toggleable__label {background-color: #d4ebff;}#sk-container-id-4 div.sk-serial::before {content: \"\";position: absolute;border-left: 1px solid gray;box-sizing: border-box;top: 0;bottom: 0;left: 50%;z-index: 0;}#sk-container-id-4 div.sk-serial {display: flex;flex-direction: column;align-items: center;background-color: white;padding-right: 0.2em;padding-left: 0.2em;position: relative;}#sk-container-id-4 div.sk-item {position: relative;z-index: 1;}#sk-container-id-4 div.sk-parallel {display: flex;align-items: stretch;justify-content: center;background-color: white;position: relative;}#sk-container-id-4 div.sk-item::before, #sk-container-id-4 div.sk-parallel-item::before {content: \"\";position: absolute;border-left: 1px solid gray;box-sizing: border-box;top: 0;bottom: 0;left: 50%;z-index: -1;}#sk-container-id-4 div.sk-parallel-item {display: flex;flex-direction: column;z-index: 1;position: relative;background-color: white;}#sk-container-id-4 div.sk-parallel-item:first-child::after {align-self: flex-end;width: 50%;}#sk-container-id-4 div.sk-parallel-item:last-child::after {align-self: flex-start;width: 50%;}#sk-container-id-4 div.sk-parallel-item:only-child::after {width: 0;}#sk-container-id-4 div.sk-dashed-wrapped {border: 1px dashed gray;margin: 0 0.4em 0.5em 0.4em;box-sizing: border-box;padding-bottom: 0.4em;background-color: white;}#sk-container-id-4 div.sk-label label {font-family: monospace;font-weight: bold;display: inline-block;line-height: 1.2em;}#sk-container-id-4 div.sk-label-container {text-align: center;}#sk-container-id-4 div.sk-container {/* jupyter's `normalize.less` sets `[hidden] { display: none; }` but bootstrap.min.css set `[hidden] { display: none !important; }` so we also need the `!important` here to be able to override the default hidden behavior on the sphinx rendered scikit-learn.org. See: https://github.com/scikit-learn/scikit-learn/issues/21755 */display: inline-block !important;position: relative;}#sk-container-id-4 div.sk-text-repr-fallback {display: none;}</style><div id=\"sk-container-id-4\" class=\"sk-top-container\"><div class=\"sk-text-repr-fallback\"><pre>SVC()</pre><b>In a Jupyter environment, please rerun this cell to show the HTML representation or trust the notebook. <br />On GitHub, the HTML representation is unable to render, please try loading this page with nbviewer.org.</b></div><div class=\"sk-container\" hidden><div class=\"sk-item\"><div class=\"sk-estimator sk-toggleable\"><input class=\"sk-toggleable__control sk-hidden--visually\" id=\"sk-estimator-id-4\" type=\"checkbox\" checked><label for=\"sk-estimator-id-4\" class=\"sk-toggleable__label sk-toggleable__label-arrow\">SVC</label><div class=\"sk-toggleable__content\"><pre>SVC()</pre></div></div></div></div></div>"
      ],
      "text/plain": [
       "SVC()"
      ]
     },
     "execution_count": 42,
     "metadata": {},
     "output_type": "execute_result"
    }
   ],
   "source": [
    "# Training the model\n",
    "model_svm.fit(x_train, y_train)"
   ]
  },
  {
   "cell_type": "code",
   "execution_count": 43,
   "id": "e72b25e6",
   "metadata": {},
   "outputs": [],
   "source": [
    "# Making predictions\n",
    "pred_svm = model_svm.predict(x_test)"
   ]
  },
  {
   "cell_type": "code",
   "execution_count": 44,
   "id": "c0fe7fbe",
   "metadata": {},
   "outputs": [
    {
     "data": {
      "text/plain": [
       "91.76867876741241"
      ]
     },
     "execution_count": 44,
     "metadata": {},
     "output_type": "execute_result"
    }
   ],
   "source": [
    "accuracy_score_svm = accuracy_score(y_test, pred_svm)\n",
    "accuracy_score_svm * 100"
   ]
  },
  {
   "cell_type": "code",
   "execution_count": 45,
   "id": "2cdd2b16",
   "metadata": {},
   "outputs": [
    {
     "data": {
      "text/plain": [
       "array([[2173,    1],\n",
       "       [ 194,    1]], dtype=int64)"
      ]
     },
     "execution_count": 45,
     "metadata": {},
     "output_type": "execute_result"
    }
   ],
   "source": [
    "# confusion matrix\n",
    "cm4 = confusion_matrix(y_test, pred_svm)\n",
    "cm4"
   ]
  },
  {
   "cell_type": "markdown",
   "id": "6aedb79a",
   "metadata": {},
   "source": [
    "## AdaBoost Classifiers\n"
   ]
  },
  {
   "cell_type": "code",
   "execution_count": 46,
   "id": "b5a342ca",
   "metadata": {},
   "outputs": [],
   "source": [
    "from sklearn.ensemble import AdaBoostClassifier\n",
    "\n",
    "# creating object\n",
    "model_ada = AdaBoostClassifier(n_estimators = 200, learning_rate = 0.03)"
   ]
  },
  {
   "cell_type": "code",
   "execution_count": 47,
   "id": "3ff4c849",
   "metadata": {},
   "outputs": [
    {
     "data": {
      "text/html": [
       "<style>#sk-container-id-5 {color: black;}#sk-container-id-5 pre{padding: 0;}#sk-container-id-5 div.sk-toggleable {background-color: white;}#sk-container-id-5 label.sk-toggleable__label {cursor: pointer;display: block;width: 100%;margin-bottom: 0;padding: 0.3em;box-sizing: border-box;text-align: center;}#sk-container-id-5 label.sk-toggleable__label-arrow:before {content: \"▸\";float: left;margin-right: 0.25em;color: #696969;}#sk-container-id-5 label.sk-toggleable__label-arrow:hover:before {color: black;}#sk-container-id-5 div.sk-estimator:hover label.sk-toggleable__label-arrow:before {color: black;}#sk-container-id-5 div.sk-toggleable__content {max-height: 0;max-width: 0;overflow: hidden;text-align: left;background-color: #f0f8ff;}#sk-container-id-5 div.sk-toggleable__content pre {margin: 0.2em;color: black;border-radius: 0.25em;background-color: #f0f8ff;}#sk-container-id-5 input.sk-toggleable__control:checked~div.sk-toggleable__content {max-height: 200px;max-width: 100%;overflow: auto;}#sk-container-id-5 input.sk-toggleable__control:checked~label.sk-toggleable__label-arrow:before {content: \"▾\";}#sk-container-id-5 div.sk-estimator input.sk-toggleable__control:checked~label.sk-toggleable__label {background-color: #d4ebff;}#sk-container-id-5 div.sk-label input.sk-toggleable__control:checked~label.sk-toggleable__label {background-color: #d4ebff;}#sk-container-id-5 input.sk-hidden--visually {border: 0;clip: rect(1px 1px 1px 1px);clip: rect(1px, 1px, 1px, 1px);height: 1px;margin: -1px;overflow: hidden;padding: 0;position: absolute;width: 1px;}#sk-container-id-5 div.sk-estimator {font-family: monospace;background-color: #f0f8ff;border: 1px dotted black;border-radius: 0.25em;box-sizing: border-box;margin-bottom: 0.5em;}#sk-container-id-5 div.sk-estimator:hover {background-color: #d4ebff;}#sk-container-id-5 div.sk-parallel-item::after {content: \"\";width: 100%;border-bottom: 1px solid gray;flex-grow: 1;}#sk-container-id-5 div.sk-label:hover label.sk-toggleable__label {background-color: #d4ebff;}#sk-container-id-5 div.sk-serial::before {content: \"\";position: absolute;border-left: 1px solid gray;box-sizing: border-box;top: 0;bottom: 0;left: 50%;z-index: 0;}#sk-container-id-5 div.sk-serial {display: flex;flex-direction: column;align-items: center;background-color: white;padding-right: 0.2em;padding-left: 0.2em;position: relative;}#sk-container-id-5 div.sk-item {position: relative;z-index: 1;}#sk-container-id-5 div.sk-parallel {display: flex;align-items: stretch;justify-content: center;background-color: white;position: relative;}#sk-container-id-5 div.sk-item::before, #sk-container-id-5 div.sk-parallel-item::before {content: \"\";position: absolute;border-left: 1px solid gray;box-sizing: border-box;top: 0;bottom: 0;left: 50%;z-index: -1;}#sk-container-id-5 div.sk-parallel-item {display: flex;flex-direction: column;z-index: 1;position: relative;background-color: white;}#sk-container-id-5 div.sk-parallel-item:first-child::after {align-self: flex-end;width: 50%;}#sk-container-id-5 div.sk-parallel-item:last-child::after {align-self: flex-start;width: 50%;}#sk-container-id-5 div.sk-parallel-item:only-child::after {width: 0;}#sk-container-id-5 div.sk-dashed-wrapped {border: 1px dashed gray;margin: 0 0.4em 0.5em 0.4em;box-sizing: border-box;padding-bottom: 0.4em;background-color: white;}#sk-container-id-5 div.sk-label label {font-family: monospace;font-weight: bold;display: inline-block;line-height: 1.2em;}#sk-container-id-5 div.sk-label-container {text-align: center;}#sk-container-id-5 div.sk-container {/* jupyter's `normalize.less` sets `[hidden] { display: none; }` but bootstrap.min.css set `[hidden] { display: none !important; }` so we also need the `!important` here to be able to override the default hidden behavior on the sphinx rendered scikit-learn.org. See: https://github.com/scikit-learn/scikit-learn/issues/21755 */display: inline-block !important;position: relative;}#sk-container-id-5 div.sk-text-repr-fallback {display: none;}</style><div id=\"sk-container-id-5\" class=\"sk-top-container\"><div class=\"sk-text-repr-fallback\"><pre>AdaBoostClassifier(learning_rate=0.03, n_estimators=200)</pre><b>In a Jupyter environment, please rerun this cell to show the HTML representation or trust the notebook. <br />On GitHub, the HTML representation is unable to render, please try loading this page with nbviewer.org.</b></div><div class=\"sk-container\" hidden><div class=\"sk-item\"><div class=\"sk-estimator sk-toggleable\"><input class=\"sk-toggleable__control sk-hidden--visually\" id=\"sk-estimator-id-5\" type=\"checkbox\" checked><label for=\"sk-estimator-id-5\" class=\"sk-toggleable__label sk-toggleable__label-arrow\">AdaBoostClassifier</label><div class=\"sk-toggleable__content\"><pre>AdaBoostClassifier(learning_rate=0.03, n_estimators=200)</pre></div></div></div></div></div>"
      ],
      "text/plain": [
       "AdaBoostClassifier(learning_rate=0.03, n_estimators=200)"
      ]
     },
     "execution_count": 47,
     "metadata": {},
     "output_type": "execute_result"
    }
   ],
   "source": [
    "# Training the model\n",
    "model_ada.fit(x_train, y_train)"
   ]
  },
  {
   "cell_type": "code",
   "execution_count": 48,
   "id": "6a5be75f",
   "metadata": {},
   "outputs": [],
   "source": [
    "# Making predcition\n",
    "pred_ada = model_ada.predict(x_test)"
   ]
  },
  {
   "cell_type": "code",
   "execution_count": 49,
   "id": "b92388a6",
   "metadata": {},
   "outputs": [
    {
     "data": {
      "text/plain": [
       "91.76867876741241"
      ]
     },
     "execution_count": 49,
     "metadata": {},
     "output_type": "execute_result"
    }
   ],
   "source": [
    "accuracy_score_ada = accuracy_score(y_test, pred_ada)\n",
    "accuracy_score_ada * 100"
   ]
  },
  {
   "cell_type": "markdown",
   "id": "582bfc67",
   "metadata": {},
   "source": [
    "# Model Comparision\n"
   ]
  },
  {
   "cell_type": "code",
   "execution_count": 51,
   "id": "3ab30ac6",
   "metadata": {},
   "outputs": [],
   "source": [
    "models = pd.DataFrame({\n",
    "    \"Model\" : [\"Logistic Regression\",\n",
    "              \"Decision Tree\",\n",
    "              \"Random Forest\",\n",
    "              \"KNN\",\n",
    "              \"SVM\",\n",
    "              \"AdaBoost\"],\n",
    "    \n",
    "    \"Accuracy Score\" : [accuracy_score_lr * 100, \n",
    "                        accuracy_score_dt * 100, \n",
    "                        accuracy_score_rf * 100, \n",
    "                        accuracy_score_knn * 100,\n",
    "                       accuracy_score_svm * 100,\n",
    "                       accuracy_score_ada * 100]\n",
    "})"
   ]
  },
  {
   "cell_type": "code",
   "execution_count": 52,
   "id": "a173cefa",
   "metadata": {},
   "outputs": [
    {
     "data": {
      "text/html": [
       "<div>\n",
       "<style scoped>\n",
       "    .dataframe tbody tr th:only-of-type {\n",
       "        vertical-align: middle;\n",
       "    }\n",
       "\n",
       "    .dataframe tbody tr th {\n",
       "        vertical-align: top;\n",
       "    }\n",
       "\n",
       "    .dataframe thead th {\n",
       "        text-align: right;\n",
       "    }\n",
       "</style>\n",
       "<table border=\"1\" class=\"dataframe\">\n",
       "  <thead>\n",
       "    <tr style=\"text-align: right;\">\n",
       "      <th></th>\n",
       "      <th>Model</th>\n",
       "      <th>Accuracy Score</th>\n",
       "    </tr>\n",
       "  </thead>\n",
       "  <tbody>\n",
       "    <tr>\n",
       "      <th>2</th>\n",
       "      <td>Random Forest</td>\n",
       "      <td>92.021950</td>\n",
       "    </tr>\n",
       "    <tr>\n",
       "      <th>1</th>\n",
       "      <td>Decision Tree</td>\n",
       "      <td>91.768679</td>\n",
       "    </tr>\n",
       "    <tr>\n",
       "      <th>4</th>\n",
       "      <td>SVM</td>\n",
       "      <td>91.768679</td>\n",
       "    </tr>\n",
       "    <tr>\n",
       "      <th>5</th>\n",
       "      <td>AdaBoost</td>\n",
       "      <td>91.768679</td>\n",
       "    </tr>\n",
       "    <tr>\n",
       "      <th>0</th>\n",
       "      <td>Logistic Regression</td>\n",
       "      <td>91.684255</td>\n",
       "    </tr>\n",
       "    <tr>\n",
       "      <th>3</th>\n",
       "      <td>KNN</td>\n",
       "      <td>91.642043</td>\n",
       "    </tr>\n",
       "  </tbody>\n",
       "</table>\n",
       "</div>"
      ],
      "text/plain": [
       "                 Model  Accuracy Score\n",
       "2        Random Forest       92.021950\n",
       "1        Decision Tree       91.768679\n",
       "4                  SVM       91.768679\n",
       "5             AdaBoost       91.768679\n",
       "0  Logistic Regression       91.684255\n",
       "3                  KNN       91.642043"
      ]
     },
     "execution_count": 52,
     "metadata": {},
     "output_type": "execute_result"
    },
    {
     "data": {
      "image/png": "[encoded data removed]",
      "text/plain": [
       "<Figure size 432x288 with 1 Axes>"
      ]
     },
     "metadata": {
      "needs_background": "light"
     },
     "output_type": "display_data"
    }
   ],
   "source": [
    "sns.barplot(x = \"Accuracy Score\", y = \"Model\", data = models)\n",
    "models.sort_values(by = \"Accuracy Score\", ascending = False)"
   ]
  },
  {
   "cell_type": "code",
   "execution_count": null,
   "id": "f8d89810",
   "metadata": {},
   "outputs": [],
   "source": []
  }
 ],
 "metadata": {
  "kernelspec": {
   "display_name": "Python 3 (ipykernel)",
   "language": "python",
   "name": "python3"
  },
  "language_info": {
   "codemirror_mode": {
    "name": "ipython",
    "version": 3
   },
   "file_extension": ".py",
   "mimetype": "text/x-python",
   "name": "python",
   "nbconvert_exporter": "python",
   "pygments_lexer": "ipython3",
   "version": "3.9.7"
  }
 },
 "nbformat": 4,
 "nbformat_minor": 5
}
